{
 "cells": [
  {
   "cell_type": "markdown",
   "id": "f8df741e",
   "metadata": {},
   "source": [
    "<br>\n",
    "<center>\n",
    "<img src=\"https://raw.githubusercontent.com/elaynelemos/prediction-of-orders-dmc/main/assets/img/univasf-logo.png\" width=200>\n",
    "<h3>\n",
    "    UNIVERSIDADE FEDERAL DO VALE DO SÃO FRANCISCO\n",
    "    <br>COLEGIADO DE ENGENHARIA DE COMPUTAÇÃO\n",
    "</h3>\n",
    "\n",
    "<h3>Orientador</h3>\n",
    "<span>Prof. Dr. Rosalvo Ferreira de Oliveira Neto</span>\n",
    "\n",
    "<h3>Discentes</h3>\n",
    "<span>Anísio Pereira Batista Filho\n",
    "<br>Edjair Aguiar Gomes Filho\n",
    "<br>Elayne Rute Lessa Lemos</span>\n",
    "</center>\n",
    "<br><br>"
   ]
  },
  {
   "cell_type": "markdown",
   "id": "44137430",
   "metadata": {},
   "source": [
    "## Regressão com Redes Neurais\n",
    "\n",
    "Projeto em: [https://github.com/anisiobfilho/regression_neuralnetworks_univasf](https://github.com/anisiobfilho/regression_neuralnetworks_univasf)"
   ]
  },
  {
   "cell_type": "markdown",
   "id": "e73a193e",
   "metadata": {},
   "source": [
    "### Carregando os dados"
   ]
  },
  {
   "cell_type": "code",
   "execution_count": null,
   "id": "7357774a",
   "metadata": {},
   "outputs": [],
   "source": []
  }
 ],
 "metadata": {
  "kernelspec": {
   "display_name": "Python 3 (ipykernel)",
   "language": "python",
   "name": "python3"
  },
  "language_info": {
   "codemirror_mode": {
    "name": "ipython",
    "version": 3
   },
   "file_extension": ".py",
   "mimetype": "text/x-python",
   "name": "python",
   "nbconvert_exporter": "python",
   "pygments_lexer": "ipython3",
   "version": "3.8.10"
  }
 },
 "nbformat": 4,
 "nbformat_minor": 5
}
