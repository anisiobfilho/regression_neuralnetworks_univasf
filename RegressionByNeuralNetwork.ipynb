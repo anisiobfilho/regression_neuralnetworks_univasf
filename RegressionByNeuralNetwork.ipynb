{
  "nbformat": 4,
  "nbformat_minor": 5,
  "metadata": {
    "kernelspec": {
      "display_name": "Python 3 (ipykernel)",
      "language": "python",
      "name": "python3"
    },
    "language_info": {
      "codemirror_mode": {
        "name": "ipython",
        "version": 3
      },
      "file_extension": ".py",
      "mimetype": "text/x-python",
      "name": "python",
      "nbconvert_exporter": "python",
      "pygments_lexer": "ipython3",
      "version": "3.8.10"
    },
    "colab": {
      "name": "RegressionByNeuralNetwork.ipynb",
      "provenance": []
    }
  },
  "cells": [
    {
      "cell_type": "markdown",
      "metadata": {
        "id": "f8df741e"
      },
      "source": [
        "<br>\n",
        "<center>\n",
        "<img src=\"https://raw.githubusercontent.com/elaynelemos/prediction-of-orders-dmc/main/assets/img/univasf-logo.png\" width=200>\n",
        "<h3>\n",
        "    UNIVERSIDADE FEDERAL DO VALE DO SÃO FRANCISCO\n",
        "    <br>COLEGIADO DE ENGENHARIA DE COMPUTAÇÃO\n",
        "</h3>\n",
        "\n",
        "<h3>Orientador</h3>\n",
        "<span>Prof. Dr. Rosalvo Ferreira de Oliveira Neto</span>\n",
        "\n",
        "<h3>Discentes</h3>\n",
        "<span>Anísio Pereira Batista Filho\n",
        "<br>Edjair Aguiar Gomes Filho\n",
        "<br>Elayne Rute Lessa Lemos</span>\n",
        "</center>\n",
        "<br><br>"
      ],
      "id": "f8df741e"
    },
    {
      "cell_type": "markdown",
      "metadata": {
        "id": "44137430"
      },
      "source": [
        "## Regressão com Redes Neurais\n",
        "\n",
        "Projeto em: [https://github.com/anisiobfilho/regression_neuralnetworks_univasf](https://github.com/anisiobfilho/regression_neuralnetworks_univasf)"
      ],
      "id": "44137430"
    },
    {
      "cell_type": "markdown",
      "metadata": {
        "id": "e73a193e"
      },
      "source": [
        "### Importação das bases de dados"
      ],
      "id": "e73a193e"
    },
    {
      "cell_type": "code",
      "metadata": {
        "id": "7357774a"
      },
      "source": [
        "import pandas as pd\n",
        "\n",
        "repo_url = 'https://raw.githubusercontent.com/anisiobfilho/regression_neuralnetworks_univasf/main'"
      ],
      "id": "7357774a",
      "execution_count": 47,
      "outputs": []
    },
    {
      "cell_type": "code",
      "metadata": {
        "id": "zpenujKs7ZN7"
      },
      "source": [
        "X_train = pd.read_csv(f'{repo_url}/data/preprocessed/ic_house_pred_train_X.csv')\n",
        "y_train = pd.read_csv(f'{repo_url}/data/preprocessed/ic_house_pred_train_y.csv')\n",
        "y_train_log = pd.read_csv(f'{repo_url}/data/preprocessed/ic_house_pred_train_y_log.csv')\n",
        "\n",
        "X_test = pd.read_csv(f'{repo_url}/data/preprocessed/ic_house_pred_test_X.csv')\n",
        "y_test = pd.read_csv(f'{repo_url}/data/preprocessed/ic_house_pred_test_y.csv')\n",
        "y_test_log = pd.read_csv(f'{repo_url}/data/preprocessed/ic_house_pred_test_y_log.csv')"
      ],
      "id": "zpenujKs7ZN7",
      "execution_count": 48,
      "outputs": []
    },
    {
      "cell_type": "code",
      "metadata": {
        "id": "PyQC3k4a9ME5",
        "outputId": "51542f46-6b11-4164-eb22-0bcc23bbb216",
        "colab": {
          "base_uri": "https://localhost:8080/",
          "height": 191
        }
      },
      "source": [
        "X_train.sample(3)"
      ],
      "id": "PyQC3k4a9ME5",
      "execution_count": 49,
      "outputs": [
        {
          "output_type": "execute_result",
          "data": {
            "text/html": [
              "<div>\n",
              "<style scoped>\n",
              "    .dataframe tbody tr th:only-of-type {\n",
              "        vertical-align: middle;\n",
              "    }\n",
              "\n",
              "    .dataframe tbody tr th {\n",
              "        vertical-align: top;\n",
              "    }\n",
              "\n",
              "    .dataframe thead th {\n",
              "        text-align: right;\n",
              "    }\n",
              "</style>\n",
              "<table border=\"1\" class=\"dataframe\">\n",
              "  <thead>\n",
              "    <tr style=\"text-align: right;\">\n",
              "      <th></th>\n",
              "      <th>MSSubClass</th>\n",
              "      <th>LotFrontage</th>\n",
              "      <th>LotArea</th>\n",
              "      <th>OverallQual</th>\n",
              "      <th>OverallCond</th>\n",
              "      <th>YearBuilt</th>\n",
              "      <th>YearRemodAdd</th>\n",
              "      <th>MasVnrArea</th>\n",
              "      <th>BsmtFinSF1</th>\n",
              "      <th>BsmtFinSF2</th>\n",
              "      <th>BsmtUnfSF</th>\n",
              "      <th>TotalBsmtSF</th>\n",
              "      <th>1stFlrSF</th>\n",
              "      <th>2ndFlrSF</th>\n",
              "      <th>LowQualFinSF</th>\n",
              "      <th>GrLivArea</th>\n",
              "      <th>BsmtFullBath</th>\n",
              "      <th>BsmtHalfBath</th>\n",
              "      <th>FullBath</th>\n",
              "      <th>HalfBath</th>\n",
              "      <th>BedroomAbvGr</th>\n",
              "      <th>KitchenAbvGr</th>\n",
              "      <th>TotRmsAbvGrd</th>\n",
              "      <th>Fireplaces</th>\n",
              "      <th>GarageYrBlt</th>\n",
              "      <th>GarageCars</th>\n",
              "      <th>GarageArea</th>\n",
              "      <th>WoodDeckSF</th>\n",
              "      <th>OpenPorchSF</th>\n",
              "      <th>EnclosedPorch</th>\n",
              "      <th>3SsnPorch</th>\n",
              "      <th>ScreenPorch</th>\n",
              "      <th>PoolArea</th>\n",
              "      <th>MiscVal</th>\n",
              "      <th>MoSold</th>\n",
              "      <th>YrSold</th>\n",
              "      <th>MSZoning_FV</th>\n",
              "      <th>MSZoning_RH</th>\n",
              "      <th>MSZoning_RL</th>\n",
              "      <th>MSZoning_RM</th>\n",
              "      <th>...</th>\n",
              "      <th>GarageQual_Gd</th>\n",
              "      <th>GarageQual_Po</th>\n",
              "      <th>GarageQual_TA</th>\n",
              "      <th>GarageQual_ausente</th>\n",
              "      <th>GarageCond_Fa</th>\n",
              "      <th>GarageCond_Gd</th>\n",
              "      <th>GarageCond_Po</th>\n",
              "      <th>GarageCond_TA</th>\n",
              "      <th>GarageCond_ausente</th>\n",
              "      <th>PavedDrive_P</th>\n",
              "      <th>PavedDrive_Y</th>\n",
              "      <th>PoolQC_Fa</th>\n",
              "      <th>PoolQC_Gd</th>\n",
              "      <th>PoolQC_ausente</th>\n",
              "      <th>Fence_GdWo</th>\n",
              "      <th>Fence_MnPrv</th>\n",
              "      <th>Fence_MnWw</th>\n",
              "      <th>Fence_ausente</th>\n",
              "      <th>MiscFeature_Othr</th>\n",
              "      <th>MiscFeature_Shed</th>\n",
              "      <th>MiscFeature_TenC</th>\n",
              "      <th>MiscFeature_ausente</th>\n",
              "      <th>SaleType_CWD</th>\n",
              "      <th>SaleType_Con</th>\n",
              "      <th>SaleType_ConLD</th>\n",
              "      <th>SaleType_ConLI</th>\n",
              "      <th>SaleType_ConLw</th>\n",
              "      <th>SaleType_New</th>\n",
              "      <th>SaleType_Oth</th>\n",
              "      <th>SaleType_WD</th>\n",
              "      <th>SaleCondition_AdjLand</th>\n",
              "      <th>SaleCondition_Alloca</th>\n",
              "      <th>SaleCondition_Family</th>\n",
              "      <th>SaleCondition_Normal</th>\n",
              "      <th>SaleCondition_Partial</th>\n",
              "      <th>Condition2_PosA</th>\n",
              "      <th>Condition2_RRNn</th>\n",
              "      <th>Electrical_Mix</th>\n",
              "      <th>Exterior1st_ImStucc</th>\n",
              "      <th>RoofMatl_Membran</th>\n",
              "    </tr>\n",
              "  </thead>\n",
              "  <tbody>\n",
              "    <tr>\n",
              "      <th>552</th>\n",
              "      <td>0.588235</td>\n",
              "      <td>0.047945</td>\n",
              "      <td>0.013901</td>\n",
              "      <td>0.666667</td>\n",
              "      <td>0.5</td>\n",
              "      <td>0.971014</td>\n",
              "      <td>0.950000</td>\n",
              "      <td>0.076387</td>\n",
              "      <td>0.195960</td>\n",
              "      <td>0.000000</td>\n",
              "      <td>0.057791</td>\n",
              "      <td>0.203110</td>\n",
              "      <td>0.208123</td>\n",
              "      <td>0.0</td>\n",
              "      <td>0.0</td>\n",
              "      <td>0.170874</td>\n",
              "      <td>0.333333</td>\n",
              "      <td>0.0</td>\n",
              "      <td>0.333333</td>\n",
              "      <td>0.5</td>\n",
              "      <td>0.125</td>\n",
              "      <td>0.5</td>\n",
              "      <td>0.166667</td>\n",
              "      <td>0.000000</td>\n",
              "      <td>0.972727</td>\n",
              "      <td>0.50</td>\n",
              "      <td>0.401269</td>\n",
              "      <td>0.0</td>\n",
              "      <td>0.212066</td>\n",
              "      <td>0.000000</td>\n",
              "      <td>0.0</td>\n",
              "      <td>0.0</td>\n",
              "      <td>0.0</td>\n",
              "      <td>0.0</td>\n",
              "      <td>0.909091</td>\n",
              "      <td>0.25</td>\n",
              "      <td>1.0</td>\n",
              "      <td>0.0</td>\n",
              "      <td>0.0</td>\n",
              "      <td>0.0</td>\n",
              "      <td>...</td>\n",
              "      <td>0.0</td>\n",
              "      <td>0.0</td>\n",
              "      <td>1.0</td>\n",
              "      <td>0.0</td>\n",
              "      <td>0.0</td>\n",
              "      <td>0.0</td>\n",
              "      <td>0.0</td>\n",
              "      <td>1.0</td>\n",
              "      <td>0.0</td>\n",
              "      <td>0.0</td>\n",
              "      <td>1.0</td>\n",
              "      <td>0.0</td>\n",
              "      <td>0.0</td>\n",
              "      <td>1.0</td>\n",
              "      <td>0.0</td>\n",
              "      <td>0.0</td>\n",
              "      <td>0.0</td>\n",
              "      <td>1.0</td>\n",
              "      <td>0.0</td>\n",
              "      <td>0.0</td>\n",
              "      <td>0.0</td>\n",
              "      <td>1.0</td>\n",
              "      <td>0.0</td>\n",
              "      <td>0.0</td>\n",
              "      <td>0.0</td>\n",
              "      <td>0.0</td>\n",
              "      <td>0.0</td>\n",
              "      <td>1.0</td>\n",
              "      <td>0.0</td>\n",
              "      <td>0.0</td>\n",
              "      <td>0.0</td>\n",
              "      <td>0.0</td>\n",
              "      <td>0.0</td>\n",
              "      <td>0.0</td>\n",
              "      <td>1.0</td>\n",
              "      <td>0.0</td>\n",
              "      <td>0.0</td>\n",
              "      <td>0.0</td>\n",
              "      <td>0.0</td>\n",
              "      <td>0.0</td>\n",
              "    </tr>\n",
              "    <tr>\n",
              "      <th>240</th>\n",
              "      <td>0.588235</td>\n",
              "      <td>0.099315</td>\n",
              "      <td>0.031373</td>\n",
              "      <td>0.555556</td>\n",
              "      <td>0.5</td>\n",
              "      <td>0.876812</td>\n",
              "      <td>0.733333</td>\n",
              "      <td>0.000000</td>\n",
              "      <td>0.029235</td>\n",
              "      <td>0.746229</td>\n",
              "      <td>0.255993</td>\n",
              "      <td>0.262520</td>\n",
              "      <td>0.294401</td>\n",
              "      <td>0.0</td>\n",
              "      <td>0.0</td>\n",
              "      <td>0.241711</td>\n",
              "      <td>0.333333</td>\n",
              "      <td>0.0</td>\n",
              "      <td>0.666667</td>\n",
              "      <td>0.0</td>\n",
              "      <td>0.250</td>\n",
              "      <td>0.5</td>\n",
              "      <td>0.250000</td>\n",
              "      <td>0.333333</td>\n",
              "      <td>0.845455</td>\n",
              "      <td>0.50</td>\n",
              "      <td>0.375882</td>\n",
              "      <td>0.0</td>\n",
              "      <td>0.126143</td>\n",
              "      <td>0.000000</td>\n",
              "      <td>0.0</td>\n",
              "      <td>0.0</td>\n",
              "      <td>0.0</td>\n",
              "      <td>0.0</td>\n",
              "      <td>0.545455</td>\n",
              "      <td>0.50</td>\n",
              "      <td>0.0</td>\n",
              "      <td>0.0</td>\n",
              "      <td>1.0</td>\n",
              "      <td>0.0</td>\n",
              "      <td>...</td>\n",
              "      <td>0.0</td>\n",
              "      <td>0.0</td>\n",
              "      <td>1.0</td>\n",
              "      <td>0.0</td>\n",
              "      <td>0.0</td>\n",
              "      <td>0.0</td>\n",
              "      <td>0.0</td>\n",
              "      <td>1.0</td>\n",
              "      <td>0.0</td>\n",
              "      <td>0.0</td>\n",
              "      <td>1.0</td>\n",
              "      <td>0.0</td>\n",
              "      <td>0.0</td>\n",
              "      <td>1.0</td>\n",
              "      <td>0.0</td>\n",
              "      <td>0.0</td>\n",
              "      <td>0.0</td>\n",
              "      <td>1.0</td>\n",
              "      <td>0.0</td>\n",
              "      <td>0.0</td>\n",
              "      <td>0.0</td>\n",
              "      <td>1.0</td>\n",
              "      <td>0.0</td>\n",
              "      <td>0.0</td>\n",
              "      <td>0.0</td>\n",
              "      <td>0.0</td>\n",
              "      <td>0.0</td>\n",
              "      <td>0.0</td>\n",
              "      <td>0.0</td>\n",
              "      <td>1.0</td>\n",
              "      <td>0.0</td>\n",
              "      <td>0.0</td>\n",
              "      <td>0.0</td>\n",
              "      <td>1.0</td>\n",
              "      <td>0.0</td>\n",
              "      <td>0.0</td>\n",
              "      <td>0.0</td>\n",
              "      <td>0.0</td>\n",
              "      <td>0.0</td>\n",
              "      <td>0.0</td>\n",
              "    </tr>\n",
              "    <tr>\n",
              "      <th>271</th>\n",
              "      <td>0.000000</td>\n",
              "      <td>0.202055</td>\n",
              "      <td>0.040291</td>\n",
              "      <td>0.444444</td>\n",
              "      <td>0.5</td>\n",
              "      <td>0.594203</td>\n",
              "      <td>0.066667</td>\n",
              "      <td>0.079826</td>\n",
              "      <td>0.062721</td>\n",
              "      <td>0.257320</td>\n",
              "      <td>0.176370</td>\n",
              "      <td>0.172831</td>\n",
              "      <td>0.167279</td>\n",
              "      <td>0.0</td>\n",
              "      <td>0.0</td>\n",
              "      <td>0.137340</td>\n",
              "      <td>0.333333</td>\n",
              "      <td>0.0</td>\n",
              "      <td>0.333333</td>\n",
              "      <td>0.0</td>\n",
              "      <td>0.375</td>\n",
              "      <td>0.5</td>\n",
              "      <td>0.333333</td>\n",
              "      <td>0.000000</td>\n",
              "      <td>0.490909</td>\n",
              "      <td>0.25</td>\n",
              "      <td>0.197461</td>\n",
              "      <td>0.0</td>\n",
              "      <td>0.000000</td>\n",
              "      <td>0.297101</td>\n",
              "      <td>0.0</td>\n",
              "      <td>0.0</td>\n",
              "      <td>0.0</td>\n",
              "      <td>0.0</td>\n",
              "      <td>0.090909</td>\n",
              "      <td>1.00</td>\n",
              "      <td>0.0</td>\n",
              "      <td>0.0</td>\n",
              "      <td>1.0</td>\n",
              "      <td>0.0</td>\n",
              "      <td>...</td>\n",
              "      <td>0.0</td>\n",
              "      <td>0.0</td>\n",
              "      <td>1.0</td>\n",
              "      <td>0.0</td>\n",
              "      <td>0.0</td>\n",
              "      <td>0.0</td>\n",
              "      <td>0.0</td>\n",
              "      <td>1.0</td>\n",
              "      <td>0.0</td>\n",
              "      <td>0.0</td>\n",
              "      <td>1.0</td>\n",
              "      <td>0.0</td>\n",
              "      <td>0.0</td>\n",
              "      <td>1.0</td>\n",
              "      <td>0.0</td>\n",
              "      <td>1.0</td>\n",
              "      <td>0.0</td>\n",
              "      <td>0.0</td>\n",
              "      <td>0.0</td>\n",
              "      <td>0.0</td>\n",
              "      <td>0.0</td>\n",
              "      <td>1.0</td>\n",
              "      <td>0.0</td>\n",
              "      <td>0.0</td>\n",
              "      <td>0.0</td>\n",
              "      <td>0.0</td>\n",
              "      <td>0.0</td>\n",
              "      <td>0.0</td>\n",
              "      <td>0.0</td>\n",
              "      <td>1.0</td>\n",
              "      <td>0.0</td>\n",
              "      <td>0.0</td>\n",
              "      <td>0.0</td>\n",
              "      <td>1.0</td>\n",
              "      <td>0.0</td>\n",
              "      <td>0.0</td>\n",
              "      <td>0.0</td>\n",
              "      <td>0.0</td>\n",
              "      <td>0.0</td>\n",
              "      <td>0.0</td>\n",
              "    </tr>\n",
              "  </tbody>\n",
              "</table>\n",
              "<p>3 rows × 261 columns</p>\n",
              "</div>"
            ],
            "text/plain": [
              "     MSSubClass  LotFrontage  ...  Exterior1st_ImStucc  RoofMatl_Membran\n",
              "552    0.588235     0.047945  ...                  0.0               0.0\n",
              "240    0.588235     0.099315  ...                  0.0               0.0\n",
              "271    0.000000     0.202055  ...                  0.0               0.0\n",
              "\n",
              "[3 rows x 261 columns]"
            ]
          },
          "metadata": {},
          "execution_count": 49
        }
      ]
    },
    {
      "cell_type": "markdown",
      "metadata": {
        "id": "SLLvkrQr-u1R"
      },
      "source": [
        "### Treinamento dos modelos"
      ],
      "id": "SLLvkrQr-u1R"
    },
    {
      "cell_type": "code",
      "metadata": {
        "id": "zr9NgYuZFzv4"
      },
      "source": [
        "from keras.models  import Sequential\n",
        "from keras.layers import InputLayer, Dense\n",
        "from keras.optimizers import adam_v2"
      ],
      "id": "zr9NgYuZFzv4",
      "execution_count": 50,
      "outputs": []
    },
    {
      "cell_type": "markdown",
      "metadata": {
        "id": "CdDizR4r-3-k"
      },
      "source": [
        "#### Com variável alvo sem transformação"
      ],
      "id": "CdDizR4r-3-k"
    },
    {
      "cell_type": "code",
      "metadata": {
        "id": "LYEY86Oh-oq4"
      },
      "source": [
        "input_neuron, hidden_neuron, output_neuron = X_train.shape[-1], int(X_train.shape[-1]*3/10), 1\n",
        "\n",
        "mlp = Sequential([     \n",
        "    InputLayer(input_neuron),\n",
        "    Dense(hidden_neuron, activation=\"relu\"),\n",
        "    Dense(output_neuron, activation=\"sigmoid\")\n",
        "])"
      ],
      "id": "LYEY86Oh-oq4",
      "execution_count": 51,
      "outputs": []
    },
    {
      "cell_type": "code",
      "metadata": {
        "id": "Qg-fg2ovAVMk",
        "outputId": "33edc361-ab70-4848-a98e-b4eabd58f54e",
        "colab": {
          "base_uri": "https://localhost:8080/"
        }
      },
      "source": [
        "mlp.summary()"
      ],
      "id": "Qg-fg2ovAVMk",
      "execution_count": 52,
      "outputs": [
        {
          "output_type": "stream",
          "name": "stdout",
          "text": [
            "Model: \"sequential_2\"\n",
            "_________________________________________________________________\n",
            "Layer (type)                 Output Shape              Param #   \n",
            "=================================================================\n",
            "dense_4 (Dense)              (None, 78)                20436     \n",
            "_________________________________________________________________\n",
            "dense_5 (Dense)              (None, 1)                 79        \n",
            "=================================================================\n",
            "Total params: 20,515\n",
            "Trainable params: 20,515\n",
            "Non-trainable params: 0\n",
            "_________________________________________________________________\n"
          ]
        }
      ]
    },
    {
      "cell_type": "code",
      "metadata": {
        "id": "r-W5kTI9AXqa"
      },
      "source": [
        "mlp.compile(optimizer=\"adam\", loss=\"mse\")"
      ],
      "id": "r-W5kTI9AXqa",
      "execution_count": 53,
      "outputs": []
    },
    {
      "cell_type": "code",
      "metadata": {
        "id": "DFHW_QBCAd7S",
        "outputId": "7fec6ffa-5d0c-4d22-ff59-43861d976640",
        "colab": {
          "base_uri": "https://localhost:8080/"
        }
      },
      "source": [
        "batch_size = 16\n",
        "epochs = 50\n",
        "Log = mlp.fit(X_train, y_train, batch_size=batch_size, epochs=epochs)"
      ],
      "id": "DFHW_QBCAd7S",
      "execution_count": 54,
      "outputs": [
        {
          "output_type": "stream",
          "name": "stdout",
          "text": [
            "Epoch 1/50\n",
            "64/64 [==============================] - 0s 2ms/step - loss: 38892531712.0000\n",
            "Epoch 2/50\n",
            "64/64 [==============================] - 0s 2ms/step - loss: 38892498944.0000\n",
            "Epoch 3/50\n",
            "64/64 [==============================] - 0s 2ms/step - loss: 38892498944.0000\n",
            "Epoch 4/50\n",
            "64/64 [==============================] - 0s 2ms/step - loss: 38892507136.0000\n",
            "Epoch 5/50\n",
            "64/64 [==============================] - 0s 2ms/step - loss: 38892507136.0000\n",
            "Epoch 6/50\n",
            "64/64 [==============================] - 0s 2ms/step - loss: 38892503040.0000\n",
            "Epoch 7/50\n",
            "64/64 [==============================] - 0s 2ms/step - loss: 38892498944.0000\n",
            "Epoch 8/50\n",
            "64/64 [==============================] - 0s 2ms/step - loss: 38892507136.0000\n",
            "Epoch 9/50\n",
            "64/64 [==============================] - 0s 2ms/step - loss: 38892494848.0000\n",
            "Epoch 10/50\n",
            "64/64 [==============================] - 0s 2ms/step - loss: 38892503040.0000\n",
            "Epoch 11/50\n",
            "64/64 [==============================] - 0s 2ms/step - loss: 38892507136.0000\n",
            "Epoch 12/50\n",
            "64/64 [==============================] - 0s 2ms/step - loss: 38892511232.0000\n",
            "Epoch 13/50\n",
            "64/64 [==============================] - 0s 2ms/step - loss: 38892507136.0000\n",
            "Epoch 14/50\n",
            "64/64 [==============================] - 0s 2ms/step - loss: 38892507136.0000\n",
            "Epoch 15/50\n",
            "64/64 [==============================] - 0s 2ms/step - loss: 38892503040.0000\n",
            "Epoch 16/50\n",
            "64/64 [==============================] - 0s 2ms/step - loss: 38892503040.0000\n",
            "Epoch 17/50\n",
            "64/64 [==============================] - 0s 2ms/step - loss: 38892503040.0000\n",
            "Epoch 18/50\n",
            "64/64 [==============================] - 0s 2ms/step - loss: 38892503040.0000\n",
            "Epoch 19/50\n",
            "64/64 [==============================] - 0s 2ms/step - loss: 38892494848.0000\n",
            "Epoch 20/50\n",
            "64/64 [==============================] - 0s 2ms/step - loss: 38892503040.0000\n",
            "Epoch 21/50\n",
            "64/64 [==============================] - 0s 2ms/step - loss: 38892498944.0000\n",
            "Epoch 22/50\n",
            "64/64 [==============================] - 0s 1ms/step - loss: 38892507136.0000\n",
            "Epoch 23/50\n",
            "64/64 [==============================] - 0s 2ms/step - loss: 38892503040.0000\n",
            "Epoch 24/50\n",
            "64/64 [==============================] - 0s 2ms/step - loss: 38892503040.0000\n",
            "Epoch 25/50\n",
            "64/64 [==============================] - 0s 2ms/step - loss: 38892503040.0000\n",
            "Epoch 26/50\n",
            "64/64 [==============================] - 0s 2ms/step - loss: 38892507136.0000\n",
            "Epoch 27/50\n",
            "64/64 [==============================] - 0s 2ms/step - loss: 38892507136.0000\n",
            "Epoch 28/50\n",
            "64/64 [==============================] - 0s 2ms/step - loss: 38892503040.0000\n",
            "Epoch 29/50\n",
            "64/64 [==============================] - 0s 2ms/step - loss: 38892494848.0000\n",
            "Epoch 30/50\n",
            "64/64 [==============================] - 0s 2ms/step - loss: 38892498944.0000\n",
            "Epoch 31/50\n",
            "64/64 [==============================] - 0s 2ms/step - loss: 38892494848.0000\n",
            "Epoch 32/50\n",
            "64/64 [==============================] - 0s 2ms/step - loss: 38892503040.0000\n",
            "Epoch 33/50\n",
            "64/64 [==============================] - 0s 2ms/step - loss: 38892507136.0000\n",
            "Epoch 34/50\n",
            "64/64 [==============================] - 0s 2ms/step - loss: 38892503040.0000\n",
            "Epoch 35/50\n",
            "64/64 [==============================] - 0s 2ms/step - loss: 38892507136.0000\n",
            "Epoch 36/50\n",
            "64/64 [==============================] - 0s 2ms/step - loss: 38892498944.0000\n",
            "Epoch 37/50\n",
            "64/64 [==============================] - 0s 2ms/step - loss: 38892503040.0000\n",
            "Epoch 38/50\n",
            "64/64 [==============================] - 0s 2ms/step - loss: 38892507136.0000\n",
            "Epoch 39/50\n",
            "64/64 [==============================] - 0s 2ms/step - loss: 38892511232.0000\n",
            "Epoch 40/50\n",
            "64/64 [==============================] - 0s 2ms/step - loss: 38892498944.0000\n",
            "Epoch 41/50\n",
            "64/64 [==============================] - 0s 2ms/step - loss: 38892507136.0000\n",
            "Epoch 42/50\n",
            "64/64 [==============================] - 0s 2ms/step - loss: 38892507136.0000\n",
            "Epoch 43/50\n",
            "64/64 [==============================] - 0s 2ms/step - loss: 38892503040.0000\n",
            "Epoch 44/50\n",
            "64/64 [==============================] - 0s 2ms/step - loss: 38892507136.0000\n",
            "Epoch 45/50\n",
            "64/64 [==============================] - 0s 2ms/step - loss: 38892507136.0000\n",
            "Epoch 46/50\n",
            "64/64 [==============================] - 0s 2ms/step - loss: 38892503040.0000\n",
            "Epoch 47/50\n",
            "64/64 [==============================] - 0s 2ms/step - loss: 38892498944.0000\n",
            "Epoch 48/50\n",
            "64/64 [==============================] - 0s 2ms/step - loss: 38892507136.0000\n",
            "Epoch 49/50\n",
            "64/64 [==============================] - 0s 2ms/step - loss: 38892507136.0000\n",
            "Epoch 50/50\n",
            "64/64 [==============================] - 0s 2ms/step - loss: 38892507136.0000\n"
          ]
        }
      ]
    },
    {
      "cell_type": "markdown",
      "metadata": {
        "id": "Ko8fkvjV_SJ3"
      },
      "source": [
        "#### Com variável alvo com transformação logarítmica"
      ],
      "id": "Ko8fkvjV_SJ3"
    },
    {
      "cell_type": "code",
      "metadata": {
        "id": "zCi3vhRyDFVX",
        "outputId": "a136f178-02c8-43d6-bb61-2b2c47fb7d4e",
        "colab": {
          "base_uri": "https://localhost:8080/"
        }
      },
      "source": [
        "y_test.max()"
      ],
      "id": "zCi3vhRyDFVX",
      "execution_count": 55,
      "outputs": [
        {
          "output_type": "execute_result",
          "data": {
            "text/plain": [
              "SalePrice    755000\n",
              "dtype: int64"
            ]
          },
          "metadata": {},
          "execution_count": 55
        }
      ]
    },
    {
      "cell_type": "markdown",
      "metadata": {
        "id": "VPiRxplQAryK"
      },
      "source": [
        "### Medidas de Desempenho\n",
        "Para este projeto de regressão, utilizou-se:\n",
        "- **r2_score**(y_test, y_pred)\n",
        "\n",
        "- **median_absolute_error**(y_test, y_pred)\n",
        "\n",
        "- **Gráfico de Dispersão**"
      ],
      "id": "VPiRxplQAryK"
    },
    {
      "cell_type": "code",
      "metadata": {
        "id": "-70aJRb8Bqmc"
      },
      "source": [
        "import matplotlib\n",
        "import matplotlib.pyplot as plt\n",
        "from sklearn.metrics import median_absolute_error, r2_score\n",
        "\n",
        "def plot_target_metricts(mlp, X_test, y_test):\n",
        "  y_pred = mlp.predict(X_test)\n",
        "\n",
        "  r2 = r2_score(y_test, y_pred)\n",
        "\n",
        "  mae = median_absolute_error(y_test, y_pred)\n",
        "\n",
        "  # Plot results\n",
        "  ax = plt.axes()\n",
        "\n",
        "  ax.scatter(y_test, y_pred)\n",
        "  ax.plot([0, 80000], [-10000, 80000], '--k')\n",
        "  ax.set_ylabel('Target predicted')\n",
        "  ax.set_xlabel('True Target')\n",
        "  ax.set_title('Sem transformação logarítmica do alvo')\n",
        "  ax.text(10000, 70000, r'$R^2$=%.2f, MAE=%.2f' % (\n",
        "      r2, mae))\n",
        "  ax.set_xlim([0, 80000])\n",
        "  ax.set_ylim([-10000, 80000])"
      ],
      "id": "-70aJRb8Bqmc",
      "execution_count": 58,
      "outputs": []
    },
    {
      "cell_type": "code",
      "metadata": {
        "id": "7oafHmSBBKe3",
        "outputId": "d400a479-dcab-4d67-e807-d3bd87365e22",
        "colab": {
          "base_uri": "https://localhost:8080/",
          "height": 295
        }
      },
      "source": [
        "plot_target_metricts(mlp, X_test, y_test)"
      ],
      "id": "7oafHmSBBKe3",
      "execution_count": 59,
      "outputs": [
        {
          "output_type": "display_data",
          "data": {
            "image/png": "[encoded data removed]",
            "text/plain": [
              "<Figure size 432x288 with 1 Axes>"
            ]
          },
          "metadata": {
            "needs_background": "light"
          }
        }
      ]
    }
  ]
}